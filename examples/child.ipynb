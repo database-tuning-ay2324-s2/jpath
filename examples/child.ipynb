{
 "cells": [
  {
   "cell_type": "code",
   "execution_count": 1,
   "metadata": {},
   "outputs": [],
   "source": [
    "import sys\n",
    "sys.path.append(\"../\") # add parent directory to path so that this notebook can find the jpath module\n",
    "from jpath.jpath import JPath\n",
    "\n",
    "JSON_STRING = \"\"\"\n",
    "{\n",
    "\t\"employees\": [\n",
    "\t\t{\"id\": 1, \"name\": \"John Doe\", \"department\": \"Engineering\", \"salary\": 60000},\n",
    "\t\t{\"id\": 2, \"name\": \"Jane Smith\", \"department\": \"Marketing\", \"salary\": 55000},\n",
    "\t\t{\"id\": 3, \"name\": \"Alice Johnson\", \"department\": \"Sales\", \"salary\": 58000}\n",
    "\t]\n",
    "}\n",
    "\"\"\"\n",
    "\n",
    "jpath = JPath(JSON_STRING)"
   ]
  },
  {
   "cell_type": "code",
   "execution_count": 2,
   "metadata": {},
   "outputs": [
    {
     "name": "stdout",
     "output_type": "stream",
     "text": [
      "[\n",
      "  {\n",
      "    \"id\": 1,\n",
      "    \"name\": \"John Doe\",\n",
      "    \"department\": \"Engineering\",\n",
      "    \"salary\": 60000\n",
      "  },\n",
      "  {\n",
      "    \"id\": 2,\n",
      "    \"name\": \"Jane Smith\",\n",
      "    \"department\": \"Marketing\",\n",
      "    \"salary\": 55000\n",
      "  },\n",
      "  {\n",
      "    \"id\": 3,\n",
      "    \"name\": \"Alice Johnson\",\n",
      "    \"department\": \"Sales\",\n",
      "    \"salary\": 58000\n",
      "  }\n",
      "]\n"
     ]
    }
   ],
   "source": [
    "from jpath.core.query import Query\n",
    "from jpath.core.step import *\n",
    "\n",
    "# mimic the query \"/child::employees\"\n",
    "query = Query()\n",
    "step1 = Step(Axis.CHILD, NodeTest(NodeTestType.NAME, \"employees\"))\n",
    "query.add_step(step1)\n",
    "results = jpath._query(query)\n",
    "print(results)\n"
   ]
  },
  {
   "cell_type": "code",
   "execution_count": 3,
   "metadata": {},
   "outputs": [
    {
     "name": "stdout",
     "output_type": "stream",
     "text": [
      "\"Engineering\"\n",
      "\"Marketing\"\n",
      "\"Sales\"\n"
     ]
    }
   ],
   "source": [
    "# mimic the query \"/child::employees/child::department\"\n",
    "query = Query()\n",
    "step1 = Step(Axis.CHILD, NodeTest(NodeTestType.NAME, \"employees\"))\n",
    "query.add_step(step1)\n",
    "step2 = Step(Axis.CHILD, NodeTest(NodeTestType.NAME, \"department\"))\n",
    "query.add_step(step2)\n",
    "results = jpath._query(query)\n",
    "print(results)"
   ]
  }
 ],
 "metadata": {
  "kernelspec": {
   "display_name": "Python 3",
   "language": "python",
   "name": "python3"
  },
  "language_info": {
   "codemirror_mode": {
    "name": "ipython",
    "version": 3
   },
   "file_extension": ".py",
   "mimetype": "text/x-python",
   "name": "python",
   "nbconvert_exporter": "python",
   "pygments_lexer": "ipython3",
   "version": "3.11.7"
  }
 },
 "nbformat": 4,
 "nbformat_minor": 2
}
