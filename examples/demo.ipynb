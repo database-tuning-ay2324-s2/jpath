{
 "cells": [
  {
   "cell_type": "code",
   "execution_count": 2,
   "metadata": {},
   "outputs": [
    {
     "name": "stdout",
     "output_type": "stream",
     "text": [
      "[child::salary >= 55000]\n",
      "Query(steps=[CHILD::employees[[CHILD::salary] Operator.GREATER_THAN_OR_EQUAL 55000 True]])\n"
     ]
    }
   ],
   "source": [
    "import sys\n",
    "sys.path.append(\"../\") # add parent directory to path so that this notebook can find the jpath module\n",
    "from jpath.jpath import JPath\n",
    "\n",
    "JSON_STRING = \"\"\"\n",
    "{\n",
    "\t\"employees\": [\n",
    "\t\t{\"id\": 1, \"name\": \"John Doe\", \"department\": \"Engineering\", \"salary\": 60000, \"good\": true},\n",
    "\t\t{\"id\": 2, \"name\": \"Jane Smith\", \"department\": \"Marketing\", \"salary\": 55000},\n",
    "\t\t{\"id\": 3, \"name\": \"Alice Johnson\", \"department\": \"Sales\", \"salary\": 58000},\n",
    "\t\t{\"id\": 4, \"name\": \"Robert Brown\", \"department\": \"Human Resources\", \"salary\": 62000},\n",
    "\t\t{\"id\": 5, \"name\": \"Michael Lee\", \"department\": \"Finance\", \"salary\": 63000, \"good\": true},\n",
    "\t\t{\"id\": 6, \"name\": \"Emily Wilson\", \"department\": \"Operations\", \"salary\": 59000},\n",
    "\t\t{\"id\": 7, \"name\": \"David Garcia\", \"department\": \"Customer Service\", \"salary\": 56000},\n",
    "\t\t{\"id\": 8, \"name\": \"Sarah Martinez\", \"department\": \"Product Management\", \"salary\": 65000, \"good\": true}\n",
    "\t],\n",
    "    \"employers\": [\n",
    "\t\t{\"id\": 9, \"name\": \"ggman\", \"role\": {\"title\": \"CEO\", \"department\": \"Engineering\", \"salary\": 60000}},\n",
    "\t\t{\"id\": 10, \"name\": \"jon\", \"role\": {\"title\": \"CTO\", \"department\": \"Engineering\", \"salary\": 80000}},\n",
    "\t\t{\"id\": 11, \"name\": \"sydney\", \"role\": {\"title\": \"COO\", \"department\": \"Operations\", \"salary\": 80000}}\n",
    "\t]\n",
    "}\n",
    "\"\"\"\n",
    "\n",
    "jpath = JPath(JSON_STRING,debug=False)\n",
    "# result = jpath.query(\"\"\"child::employers[child::role[child::salary > 60000]]\"\"\")\n",
    "# print(result)\n",
    "from jpath.core.parser import Parser\n",
    "parser = Parser()\n",
    "print(parser.parse(\"\"\"/child::employees[child::salary >= 55000]\"\"\"))\n"
   ]
  },
  {
   "cell_type": "markdown",
   "metadata": {},
   "source": [
    "### Simple child query"
   ]
  },
  {
   "cell_type": "code",
   "execution_count": 3,
   "metadata": {},
   "outputs": [
    {
     "name": "stdout",
     "output_type": "stream",
     "text": [
      "[\n",
      "  {\n",
      "    \"id\": 1,\n",
      "    \"name\": \"John Doe\",\n",
      "    \"department\": \"Engineering\",\n",
      "    \"salary\": 60000,\n",
      "    \"good\": true\n",
      "  },\n",
      "  {\n",
      "    \"id\": 2,\n",
      "    \"name\": \"Jane Smith\",\n",
      "    \"department\": \"Marketing\",\n",
      "    \"salary\": 55000\n",
      "  },\n",
      "  {\n",
      "    \"id\": 3,\n",
      "    \"name\": \"Alice Johnson\",\n",
      "    \"department\": \"Sales\",\n",
      "    \"salary\": 58000\n",
      "  },\n",
      "  {\n",
      "    \"id\": 4,\n",
      "    \"name\": \"Robert Brown\",\n",
      "    \"department\": \"Human Resources\",\n",
      "    \"salary\": 62000\n",
      "  },\n",
      "  {\n",
      "    \"id\": 5,\n",
      "    \"name\": \"Michael Lee\",\n",
      "    \"department\": \"Finance\",\n",
      "    \"salary\": 63000,\n",
      "    \"good\": true\n",
      "  },\n",
      "  {\n",
      "    \"id\": 6,\n",
      "    \"name\": \"Emily Wilson\",\n",
      "    \"department\": \"Operations\",\n",
      "    \"salary\": 59000\n",
      "  },\n",
      "  {\n",
      "    \"id\": 7,\n",
      "    \"name\": \"David Garcia\",\n",
      "    \"department\": \"Customer Service\",\n",
      "    \"salary\": 56000\n",
      "  },\n",
      "  {\n",
      "    \"id\": 8,\n",
      "    \"name\": \"Sarah Martinez\",\n",
      "    \"department\": \"Product Management\",\n",
      "    \"salary\": 65000,\n",
      "    \"good\": true\n",
      "  }\n",
      "]\n"
     ]
    }
   ],
   "source": [
    "result = jpath.query(\"/child::employees\")\n",
    "\n",
    "print(result)"
   ]
  },
  {
   "cell_type": "code",
   "execution_count": 4,
   "metadata": {},
   "outputs": [
    {
     "name": "stdout",
     "output_type": "stream",
     "text": [
      "[\n",
      "  {\n",
      "    \"id\": 9,\n",
      "    \"name\": \"ggman\",\n",
      "    \"role\": {\n",
      "      \"title\": \"CEO\",\n",
      "      \"department\": \"Engineering\",\n",
      "      \"salary\": 60000\n",
      "    }\n",
      "  },\n",
      "  {\n",
      "    \"id\": 10,\n",
      "    \"name\": \"jon\",\n",
      "    \"role\": {\n",
      "      \"title\": \"CTO\",\n",
      "      \"department\": \"Engineering\",\n",
      "      \"salary\": 80000\n",
      "    }\n",
      "  },\n",
      "  {\n",
      "    \"id\": 11,\n",
      "    \"name\": \"sydney\",\n",
      "    \"role\": {\n",
      "      \"title\": \"COO\",\n",
      "      \"department\": \"Operations\",\n",
      "      \"salary\": 80000\n",
      "    }\n",
      "  }\n",
      "]\n"
     ]
    }
   ],
   "source": [
    "result = jpath.query(\"/child::employers\")\n",
    "\n",
    "print(result)"
   ]
  },
  {
   "cell_type": "markdown",
   "metadata": {},
   "source": [
    "### Child query with multiple steps"
   ]
  },
  {
   "cell_type": "code",
   "execution_count": 5,
   "metadata": {},
   "outputs": [
    {
     "name": "stdout",
     "output_type": "stream",
     "text": [
      "\"Engineering\"\n",
      "\"Marketing\"\n",
      "\"Sales\"\n",
      "\"Human Resources\"\n",
      "\"Finance\"\n",
      "\"Operations\"\n",
      "\"Customer Service\"\n",
      "\"Product Management\"\n"
     ]
    }
   ],
   "source": [
    "result = jpath.query(\"/child::employees/child::department\")\n",
    "\n",
    "print(result)"
   ]
  },
  {
   "cell_type": "markdown",
   "metadata": {},
   "source": [
    "### Predicate query"
   ]
  },
  {
   "cell_type": "code",
   "execution_count": 6,
   "metadata": {},
   "outputs": [
    {
     "name": "stdout",
     "output_type": "stream",
     "text": [
      "[child::salary = 55000]\n",
      "{\n",
      "  \"id\": 2,\n",
      "  \"name\": \"Jane Smith\",\n",
      "  \"department\": \"Marketing\",\n",
      "  \"salary\": 55000\n",
      "}\n"
     ]
    }
   ],
   "source": [
    "result = jpath.query(\"\"\"/child::employees[child::salary = 55000]\"\"\")\n",
    "\n",
    "print(result)\n"
   ]
  },
  {
   "cell_type": "code",
   "execution_count": 7,
   "metadata": {},
   "outputs": [
    {
     "name": "stdout",
     "output_type": "stream",
     "text": [
      "[child::salary != 55000]\n",
      "{\n",
      "  \"id\": 1,\n",
      "  \"name\": \"John Doe\",\n",
      "  \"department\": \"Engineering\",\n",
      "  \"salary\": 60000,\n",
      "  \"good\": true\n",
      "}\n",
      "{\n",
      "  \"id\": 3,\n",
      "  \"name\": \"Alice Johnson\",\n",
      "  \"department\": \"Sales\",\n",
      "  \"salary\": 58000\n",
      "}\n",
      "{\n",
      "  \"id\": 4,\n",
      "  \"name\": \"Robert Brown\",\n",
      "  \"department\": \"Human Resources\",\n",
      "  \"salary\": 62000\n",
      "}\n",
      "{\n",
      "  \"id\": 5,\n",
      "  \"name\": \"Michael Lee\",\n",
      "  \"department\": \"Finance\",\n",
      "  \"salary\": 63000,\n",
      "  \"good\": true\n",
      "}\n",
      "{\n",
      "  \"id\": 6,\n",
      "  \"name\": \"Emily Wilson\",\n",
      "  \"department\": \"Operations\",\n",
      "  \"salary\": 59000\n",
      "}\n",
      "{\n",
      "  \"id\": 7,\n",
      "  \"name\": \"David Garcia\",\n",
      "  \"department\": \"Customer Service\",\n",
      "  \"salary\": 56000\n",
      "}\n",
      "{\n",
      "  \"id\": 8,\n",
      "  \"name\": \"Sarah Martinez\",\n",
      "  \"department\": \"Product Management\",\n",
      "  \"salary\": 65000,\n",
      "  \"good\": true\n",
      "}\n"
     ]
    }
   ],
   "source": [
    "result = jpath.query(\"\"\"/child::employees[child::salary != 55000]\"\"\")\n",
    "\n",
    "print(result)"
   ]
  },
  {
   "cell_type": "code",
   "execution_count": 8,
   "metadata": {},
   "outputs": [
    {
     "name": "stdout",
     "output_type": "stream",
     "text": [
      "[child::salary > 55000]\n",
      "{\n",
      "  \"id\": 1,\n",
      "  \"name\": \"John Doe\",\n",
      "  \"department\": \"Engineering\",\n",
      "  \"salary\": 60000,\n",
      "  \"good\": true\n",
      "}\n",
      "{\n",
      "  \"id\": 3,\n",
      "  \"name\": \"Alice Johnson\",\n",
      "  \"department\": \"Sales\",\n",
      "  \"salary\": 58000\n",
      "}\n",
      "{\n",
      "  \"id\": 4,\n",
      "  \"name\": \"Robert Brown\",\n",
      "  \"department\": \"Human Resources\",\n",
      "  \"salary\": 62000\n",
      "}\n",
      "{\n",
      "  \"id\": 5,\n",
      "  \"name\": \"Michael Lee\",\n",
      "  \"department\": \"Finance\",\n",
      "  \"salary\": 63000,\n",
      "  \"good\": true\n",
      "}\n",
      "{\n",
      "  \"id\": 6,\n",
      "  \"name\": \"Emily Wilson\",\n",
      "  \"department\": \"Operations\",\n",
      "  \"salary\": 59000\n",
      "}\n",
      "{\n",
      "  \"id\": 7,\n",
      "  \"name\": \"David Garcia\",\n",
      "  \"department\": \"Customer Service\",\n",
      "  \"salary\": 56000\n",
      "}\n",
      "{\n",
      "  \"id\": 8,\n",
      "  \"name\": \"Sarah Martinez\",\n",
      "  \"department\": \"Product Management\",\n",
      "  \"salary\": 65000,\n",
      "  \"good\": true\n",
      "}\n"
     ]
    }
   ],
   "source": [
    "result = jpath.query(\"\"\"/child::employees[child::salary > 55000]\"\"\")\n",
    "print(result)"
   ]
  },
  {
   "cell_type": "code",
   "execution_count": 9,
   "metadata": {},
   "outputs": [
    {
     "name": "stdout",
     "output_type": "stream",
     "text": [
      "[child::salary < 58000]\n",
      "{\n",
      "  \"id\": 2,\n",
      "  \"name\": \"Jane Smith\",\n",
      "  \"department\": \"Marketing\",\n",
      "  \"salary\": 55000\n",
      "}\n",
      "{\n",
      "  \"id\": 7,\n",
      "  \"name\": \"David Garcia\",\n",
      "  \"department\": \"Customer Service\",\n",
      "  \"salary\": 56000\n",
      "}\n"
     ]
    }
   ],
   "source": [
    "result = jpath.query(\"\"\"/child::employees[child::salary < 58000]\"\"\")\n",
    "print(result)"
   ]
  },
  {
   "cell_type": "code",
   "execution_count": 10,
   "metadata": {},
   "outputs": [
    {
     "name": "stdout",
     "output_type": "stream",
     "text": [
      "[child::salary >= 58000]\n",
      "{\n",
      "  \"id\": 1,\n",
      "  \"name\": \"John Doe\",\n",
      "  \"department\": \"Engineering\",\n",
      "  \"salary\": 60000,\n",
      "  \"good\": true\n",
      "}\n",
      "{\n",
      "  \"id\": 3,\n",
      "  \"name\": \"Alice Johnson\",\n",
      "  \"department\": \"Sales\",\n",
      "  \"salary\": 58000\n",
      "}\n",
      "{\n",
      "  \"id\": 4,\n",
      "  \"name\": \"Robert Brown\",\n",
      "  \"department\": \"Human Resources\",\n",
      "  \"salary\": 62000\n",
      "}\n",
      "{\n",
      "  \"id\": 5,\n",
      "  \"name\": \"Michael Lee\",\n",
      "  \"department\": \"Finance\",\n",
      "  \"salary\": 63000,\n",
      "  \"good\": true\n",
      "}\n",
      "{\n",
      "  \"id\": 6,\n",
      "  \"name\": \"Emily Wilson\",\n",
      "  \"department\": \"Operations\",\n",
      "  \"salary\": 59000\n",
      "}\n",
      "{\n",
      "  \"id\": 8,\n",
      "  \"name\": \"Sarah Martinez\",\n",
      "  \"department\": \"Product Management\",\n",
      "  \"salary\": 65000,\n",
      "  \"good\": true\n",
      "}\n"
     ]
    }
   ],
   "source": [
    "result = jpath.query(\"\"\"/child::employees[child::salary >= 58000]\"\"\")\n",
    "print(result)"
   ]
  },
  {
   "cell_type": "code",
   "execution_count": 11,
   "metadata": {},
   "outputs": [
    {
     "name": "stdout",
     "output_type": "stream",
     "text": [
      "[child::salary <= 58000]\n",
      "{\n",
      "  \"id\": 2,\n",
      "  \"name\": \"Jane Smith\",\n",
      "  \"department\": \"Marketing\",\n",
      "  \"salary\": 55000\n",
      "}\n",
      "{\n",
      "  \"id\": 3,\n",
      "  \"name\": \"Alice Johnson\",\n",
      "  \"department\": \"Sales\",\n",
      "  \"salary\": 58000\n",
      "}\n",
      "{\n",
      "  \"id\": 7,\n",
      "  \"name\": \"David Garcia\",\n",
      "  \"department\": \"Customer Service\",\n",
      "  \"salary\": 56000\n",
      "}\n"
     ]
    }
   ],
   "source": [
    "result = jpath.query(\"\"\"/child::employees[child::salary <= 58000]\"\"\")\n",
    "print(result)"
   ]
  },
  {
   "cell_type": "code",
   "execution_count": 12,
   "metadata": {},
   "outputs": [
    {
     "name": "stdout",
     "output_type": "stream",
     "text": [
      "[child::department]\n",
      "{\n",
      "  \"id\": 1,\n",
      "  \"name\": \"John Doe\",\n",
      "  \"department\": \"Engineering\",\n",
      "  \"salary\": 60000,\n",
      "  \"good\": true\n",
      "}\n",
      "{\n",
      "  \"id\": 2,\n",
      "  \"name\": \"Jane Smith\",\n",
      "  \"department\": \"Marketing\",\n",
      "  \"salary\": 55000\n",
      "}\n",
      "{\n",
      "  \"id\": 3,\n",
      "  \"name\": \"Alice Johnson\",\n",
      "  \"department\": \"Sales\",\n",
      "  \"salary\": 58000\n",
      "}\n",
      "{\n",
      "  \"id\": 4,\n",
      "  \"name\": \"Robert Brown\",\n",
      "  \"department\": \"Human Resources\",\n",
      "  \"salary\": 62000\n",
      "}\n",
      "{\n",
      "  \"id\": 5,\n",
      "  \"name\": \"Michael Lee\",\n",
      "  \"department\": \"Finance\",\n",
      "  \"salary\": 63000,\n",
      "  \"good\": true\n",
      "}\n",
      "{\n",
      "  \"id\": 6,\n",
      "  \"name\": \"Emily Wilson\",\n",
      "  \"department\": \"Operations\",\n",
      "  \"salary\": 59000\n",
      "}\n",
      "{\n",
      "  \"id\": 7,\n",
      "  \"name\": \"David Garcia\",\n",
      "  \"department\": \"Customer Service\",\n",
      "  \"salary\": 56000\n",
      "}\n",
      "{\n",
      "  \"id\": 8,\n",
      "  \"name\": \"Sarah Martinez\",\n",
      "  \"department\": \"Product Management\",\n",
      "  \"salary\": 65000,\n",
      "  \"good\": true\n",
      "}\n"
     ]
    }
   ],
   "source": [
    "result = jpath.query(\"\"\"/child::employees[child::department]\"\"\")\n",
    "\n",
    "print(result)"
   ]
  },
  {
   "cell_type": "code",
   "execution_count": 13,
   "metadata": {},
   "outputs": [
    {
     "name": "stdout",
     "output_type": "stream",
     "text": [
      "[child::good]\n",
      "{\n",
      "  \"id\": 1,\n",
      "  \"name\": \"John Doe\",\n",
      "  \"department\": \"Engineering\",\n",
      "  \"salary\": 60000,\n",
      "  \"good\": true\n",
      "}\n",
      "{\n",
      "  \"id\": 5,\n",
      "  \"name\": \"Michael Lee\",\n",
      "  \"department\": \"Finance\",\n",
      "  \"salary\": 63000,\n",
      "  \"good\": true\n",
      "}\n",
      "{\n",
      "  \"id\": 8,\n",
      "  \"name\": \"Sarah Martinez\",\n",
      "  \"department\": \"Product Management\",\n",
      "  \"salary\": 65000,\n",
      "  \"good\": true\n",
      "}\n"
     ]
    }
   ],
   "source": [
    "result = jpath.query(\"\"\"/child::employees[child::good]\"\"\")\n",
    "\n",
    "print(result)"
   ]
  },
  {
   "cell_type": "markdown",
   "metadata": {},
   "source": [
    "### Result array selection (single, slice)"
   ]
  },
  {
   "cell_type": "code",
   "execution_count": 14,
   "metadata": {},
   "outputs": [
    {
     "name": "stdout",
     "output_type": "stream",
     "text": [
      "[child::salary >= 55000][0]\n",
      "[0]\n"
     ]
    },
    {
     "ename": "ValueError",
     "evalue": "not enough values to unpack (expected 2, got 1)",
     "output_type": "error",
     "traceback": [
      "\u001b[1;31m---------------------------------------------------------------------------\u001b[0m",
      "\u001b[1;31mValueError\u001b[0m                                Traceback (most recent call last)",
      "Cell \u001b[1;32mIn[14], line 1\u001b[0m\n\u001b[1;32m----> 1\u001b[0m result \u001b[38;5;241m=\u001b[39m \u001b[43mjpath\u001b[49m\u001b[38;5;241;43m.\u001b[39;49m\u001b[43mquery\u001b[49m\u001b[43m(\u001b[49m\u001b[38;5;124;43m\"\"\"\u001b[39;49m\u001b[38;5;124;43m/child::employees[child::salary >= 55000][0]\u001b[39;49m\u001b[38;5;124;43m\"\"\"\u001b[39;49m\u001b[43m)\u001b[49m\n\u001b[0;32m      3\u001b[0m \u001b[38;5;28mprint\u001b[39m(result)\n",
      "File \u001b[1;32m~\\Desktop\\Projects\\jpath\\examples\\..\\jpath\\jpath.py:24\u001b[0m, in \u001b[0;36mJPath.query\u001b[1;34m(self, jpath_expr)\u001b[0m\n\u001b[0;32m     23\u001b[0m \u001b[38;5;28;01mdef\u001b[39;00m \u001b[38;5;21mquery\u001b[39m(\u001b[38;5;28mself\u001b[39m, jpath_expr) \u001b[38;5;241m-\u001b[39m\u001b[38;5;241m>\u001b[39m \u001b[38;5;28mstr\u001b[39m:\n\u001b[1;32m---> 24\u001b[0m     query \u001b[38;5;241m=\u001b[39m \u001b[38;5;28;43mself\u001b[39;49m\u001b[38;5;241;43m.\u001b[39;49m\u001b[43mparser\u001b[49m\u001b[38;5;241;43m.\u001b[39;49m\u001b[43mparse\u001b[49m\u001b[43m(\u001b[49m\u001b[43mjpath_expr\u001b[49m\u001b[43m)\u001b[49m\n\u001b[0;32m     25\u001b[0m     \u001b[38;5;28;01mreturn\u001b[39;00m \u001b[38;5;28mself\u001b[39m\u001b[38;5;241m.\u001b[39m_query(query)\n",
      "File \u001b[1;32m~\\Desktop\\Projects\\jpath\\examples\\..\\jpath\\core\\parser.py:45\u001b[0m, in \u001b[0;36mParser.parse\u001b[1;34m(self, query)\u001b[0m\n\u001b[0;32m     43\u001b[0m \u001b[38;5;66;03m# Parsing the last step if any\u001b[39;00m\n\u001b[0;32m     44\u001b[0m \u001b[38;5;28;01mif\u001b[39;00m current_step:\n\u001b[1;32m---> 45\u001b[0m     step, predicates \u001b[38;5;241m=\u001b[39m \u001b[38;5;28;43mself\u001b[39;49m\u001b[38;5;241;43m.\u001b[39;49m\u001b[43m_parse_step\u001b[49m\u001b[43m(\u001b[49m\u001b[43mcurrent_step\u001b[49m\u001b[43m,\u001b[49m\u001b[43m \u001b[49m\u001b[43mcurrent_predicate\u001b[49m\u001b[43m)\u001b[49m\n\u001b[0;32m     46\u001b[0m     step\u001b[38;5;241m.\u001b[39mpredicates\u001b[38;5;241m.\u001b[39mextend(predicates)\n\u001b[0;32m     47\u001b[0m     query_obj\u001b[38;5;241m.\u001b[39madd_step(step)\n",
      "File \u001b[1;32m~\\Desktop\\Projects\\jpath\\examples\\..\\jpath\\core\\parser.py:54\u001b[0m, in \u001b[0;36mParser._parse_step\u001b[1;34m(self, step_str, predicate_str)\u001b[0m\n\u001b[0;32m     52\u001b[0m axis_str, node_test_str \u001b[38;5;241m=\u001b[39m step_str\u001b[38;5;241m.\u001b[39msplit(\u001b[38;5;124m\"\u001b[39m\u001b[38;5;124m::\u001b[39m\u001b[38;5;124m\"\u001b[39m, \u001b[38;5;241m1\u001b[39m)\n\u001b[0;32m     53\u001b[0m axis \u001b[38;5;241m=\u001b[39m \u001b[38;5;28mself\u001b[39m\u001b[38;5;241m.\u001b[39m_parse_axis(axis_str)\n\u001b[1;32m---> 54\u001b[0m node_test, predicates \u001b[38;5;241m=\u001b[39m \u001b[38;5;28;43mself\u001b[39;49m\u001b[38;5;241;43m.\u001b[39;49m\u001b[43m_parse_node_test\u001b[49m\u001b[43m(\u001b[49m\u001b[43mnode_test_str\u001b[49m\u001b[43m,\u001b[49m\u001b[43m \u001b[49m\u001b[43mpredicate_str\u001b[49m\u001b[43m)\u001b[49m\n\u001b[0;32m     55\u001b[0m step \u001b[38;5;241m=\u001b[39m Step(axis, node_test)\n\u001b[0;32m     56\u001b[0m \u001b[38;5;28;01mreturn\u001b[39;00m step, predicates\n",
      "File \u001b[1;32m~\\Desktop\\Projects\\jpath\\examples\\..\\jpath\\core\\parser.py:109\u001b[0m, in \u001b[0;36mParser._parse_node_test\u001b[1;34m(self, node_test_str, predicate_str)\u001b[0m\n\u001b[0;32m    107\u001b[0m \u001b[38;5;28;01melse\u001b[39;00m:\n\u001b[0;32m    108\u001b[0m     \u001b[38;5;28;01mif\u001b[39;00m \u001b[38;5;124m\"\u001b[39m\u001b[38;5;124m[\u001b[39m\u001b[38;5;124m\"\u001b[39m \u001b[38;5;129;01min\u001b[39;00m predicate_str \u001b[38;5;129;01mand\u001b[39;00m \u001b[38;5;124m\"\u001b[39m\u001b[38;5;124m]\u001b[39m\u001b[38;5;124m\"\u001b[39m \u001b[38;5;129;01min\u001b[39;00m predicate_str:\n\u001b[1;32m--> 109\u001b[0m         predicate \u001b[38;5;241m=\u001b[39m \u001b[38;5;28;43mself\u001b[39;49m\u001b[38;5;241;43m.\u001b[39;49m\u001b[43m_parse_predicate\u001b[49m\u001b[43m(\u001b[49m\u001b[43mpredicate_str\u001b[49m\u001b[43m,\u001b[49m\u001b[43m \u001b[49m\u001b[43m[\u001b[49m\u001b[43m]\u001b[49m\u001b[43m)\u001b[49m\n\u001b[0;32m    110\u001b[0m         predicates\u001b[38;5;241m.\u001b[39mextend(predicate)\n\u001b[0;32m    112\u001b[0m \u001b[38;5;28;01mreturn\u001b[39;00m node_test, predicates\n",
      "File \u001b[1;32m~\\Desktop\\Projects\\jpath\\examples\\..\\jpath\\core\\parser.py:185\u001b[0m, in \u001b[0;36mParser._parse_predicate\u001b[1;34m(self, predicate_str, predicate_list)\u001b[0m\n\u001b[0;32m    183\u001b[0m     left_operand \u001b[38;5;241m=\u001b[39m \u001b[38;5;28mself\u001b[39m\u001b[38;5;241m.\u001b[39mparse(left_operand_str)\u001b[38;5;241m.\u001b[39msteps\n\u001b[0;32m    184\u001b[0m     predicate_list\u001b[38;5;241m.\u001b[39mappend(Predicate(left_operand))\n\u001b[1;32m--> 185\u001b[0m     \u001b[38;5;28;01mreturn\u001b[39;00m \u001b[38;5;28;43mself\u001b[39;49m\u001b[38;5;241;43m.\u001b[39;49m\u001b[43m_parse_predicate\u001b[49m\u001b[43m(\u001b[49m\u001b[43mpredicate_str\u001b[49m\u001b[43m[\u001b[49m\u001b[43mnext_square_bracket\u001b[49m\u001b[43m:\u001b[49m\u001b[43m]\u001b[49m\u001b[43m,\u001b[49m\u001b[43m \u001b[49m\u001b[43mpredicate_list\u001b[49m\u001b[43m)\u001b[49m\n\u001b[0;32m    187\u001b[0m predicate_str \u001b[38;5;241m=\u001b[39m predicate_str[\u001b[38;5;241m1\u001b[39m:predicate_str\u001b[38;5;241m.\u001b[39mfind(\u001b[38;5;124m\"\u001b[39m\u001b[38;5;124m]\u001b[39m\u001b[38;5;124m\"\u001b[39m)]\n\u001b[0;32m    188\u001b[0m operator_str \u001b[38;5;241m=\u001b[39m \u001b[38;5;28;01mNone\u001b[39;00m\n",
      "File \u001b[1;32m~\\Desktop\\Projects\\jpath\\examples\\..\\jpath\\core\\parser.py:207\u001b[0m, in \u001b[0;36mParser._parse_predicate\u001b[1;34m(self, predicate_str, predicate_list)\u001b[0m\n\u001b[0;32m    204\u001b[0m     operator_str \u001b[38;5;241m=\u001b[39m \u001b[38;5;124m\"\u001b[39m\u001b[38;5;124m:\u001b[39m\u001b[38;5;124m\"\u001b[39m\n\u001b[0;32m    206\u001b[0m \u001b[38;5;28;01mif\u001b[39;00m operator_str:\n\u001b[1;32m--> 207\u001b[0m     left_operand_str, right_operand_str \u001b[38;5;241m=\u001b[39m predicate_str\u001b[38;5;241m.\u001b[39msplit(operator_str, \u001b[38;5;241m1\u001b[39m)\n\u001b[0;32m    208\u001b[0m     left_operand_str \u001b[38;5;241m=\u001b[39m left_operand_str\u001b[38;5;241m.\u001b[39mstrip()\n\u001b[0;32m    210\u001b[0m     left_operand \u001b[38;5;241m=\u001b[39m \u001b[38;5;28mself\u001b[39m\u001b[38;5;241m.\u001b[39mparse(left_operand_str)\u001b[38;5;241m.\u001b[39msteps\n",
      "\u001b[1;31mValueError\u001b[0m: not enough values to unpack (expected 2, got 1)"
     ]
    }
   ],
   "source": [
    "result = jpath.query(\"\"\"/child::employees[child::salary >= 55000][0]\"\"\")\n",
    "\n",
    "print(result)"
   ]
  },
  {
   "cell_type": "code",
   "execution_count": 14,
   "metadata": {},
   "outputs": [
    {
     "name": "stdout",
     "output_type": "stream",
     "text": [
      "{\n",
      "  \"id\": 1,\n",
      "  \"name\": \"John Doe\",\n",
      "  \"department\": \"Engineering\",\n",
      "  \"salary\": 60000,\n",
      "  \"good\": true\n",
      "}\n",
      "{\n",
      "  \"id\": 2,\n",
      "  \"name\": \"Jane Smith\",\n",
      "  \"department\": \"Marketing\",\n",
      "  \"salary\": 55000\n",
      "}\n",
      "{\n",
      "  \"id\": 3,\n",
      "  \"name\": \"Alice Johnson\",\n",
      "  \"department\": \"Sales\",\n",
      "  \"salary\": 58000\n",
      "}\n"
     ]
    }
   ],
   "source": [
    "result = jpath.query(\"\"\"/child::employees[child::salary >= 55000][0:3]\"\"\")\n",
    "\n",
    "print(result)"
   ]
  },
  {
   "cell_type": "code",
   "execution_count": 15,
   "metadata": {},
   "outputs": [
    {
     "name": "stdout",
     "output_type": "stream",
     "text": [
      "{\n",
      "  \"id\": 1,\n",
      "  \"name\": \"John Doe\",\n",
      "  \"department\": \"Engineering\",\n",
      "  \"salary\": 60000,\n",
      "  \"good\": true\n",
      "}\n",
      "{\n",
      "  \"id\": 4,\n",
      "  \"name\": \"Robert Brown\",\n",
      "  \"department\": \"Human Resources\",\n",
      "  \"salary\": 62000\n",
      "}\n",
      "{\n",
      "  \"id\": 7,\n",
      "  \"name\": \"David Garcia\",\n",
      "  \"department\": \"Customer Service\",\n",
      "  \"salary\": 56000\n",
      "}\n"
     ]
    }
   ],
   "source": [
    "result = jpath.query(\"\"\"/child::employees[child::salary >= 55000][0:8:3]\"\"\")\n",
    "\n",
    "print(result)"
   ]
  },
  {
   "cell_type": "code",
   "execution_count": 16,
   "metadata": {},
   "outputs": [
    {
     "name": "stdout",
     "output_type": "stream",
     "text": [
      "{\n",
      "  \"id\": 1,\n",
      "  \"name\": \"John Doe\",\n",
      "  \"department\": \"Engineering\",\n",
      "  \"salary\": 60000,\n",
      "  \"good\": true\n",
      "}\n",
      "{\n",
      "  \"id\": 8,\n",
      "  \"name\": \"Sarah Martinez\",\n",
      "  \"department\": \"Product Management\",\n",
      "  \"salary\": 65000,\n",
      "  \"good\": true\n",
      "}\n"
     ]
    }
   ],
   "source": [
    "result = jpath.query(\"\"\"/child::employees[child::good][0:3:2]\"\"\")\n",
    "\n",
    "print(result)"
   ]
  },
  {
   "cell_type": "markdown",
   "metadata": {},
   "source": [
    "### Descendent query"
   ]
  },
  {
   "cell_type": "code",
   "execution_count": 23,
   "metadata": {},
   "outputs": [
    {
     "name": "stdout",
     "output_type": "stream",
     "text": [
      "{\n",
      "  \"title\": \"CEO\",\n",
      "  \"department\": \"Engineering\",\n",
      "  \"salary\": 60000\n",
      "}\n",
      "{\n",
      "  \"title\": \"CTO\",\n",
      "  \"department\": \"Engineering\",\n",
      "  \"salary\": 80000\n",
      "}\n",
      "{\n",
      "  \"title\": \"COO\",\n",
      "  \"department\": \"Operations\",\n",
      "  \"salary\": 80000\n",
      "}\n"
     ]
    }
   ],
   "source": [
    "result = jpath.query(\"\"\"/descendant::role\"\"\")\n",
    "print(result)"
   ]
  },
  {
   "cell_type": "markdown",
   "metadata": {},
   "source": [
    "### Nested Predicate"
   ]
  },
  {
   "cell_type": "code",
   "execution_count": 3,
   "metadata": {},
   "outputs": [
    {
     "name": "stdout",
     "output_type": "stream",
     "text": [
      "[child::salary != 60000]\n",
      "{\n",
      "  \"title\": \"CTO\",\n",
      "  \"department\": \"Engineering\",\n",
      "  \"salary\": 80000\n",
      "}\n",
      "{\n",
      "  \"title\": \"COO\",\n",
      "  \"department\": \"Operations\",\n",
      "  \"salary\": 80000\n",
      "}\n"
     ]
    }
   ],
   "source": [
    "result = jpath.query(\"\"\"child::employers/child::role[child::salary != 60000]\"\"\")\n",
    "print(result)"
   ]
  },
  {
   "cell_type": "code",
   "execution_count": 2,
   "metadata": {},
   "outputs": [
    {
     "name": "stdout",
     "output_type": "stream",
     "text": [
      "{\n",
      "  \"title\": \"CTO\",\n",
      "  \"department\": \"Engineering\",\n",
      "  \"salary\": 80000\n",
      "}\n",
      "{\n",
      "  \"title\": \"COO\",\n",
      "  \"department\": \"Operations\",\n",
      "  \"salary\": 80000\n",
      "}\n"
     ]
    }
   ],
   "source": [
    "result = jpath.query(\"\"\"child::employers/child::role[child::salary > 60000]]\"\"\")\n",
    "print(result)"
   ]
  },
  {
   "cell_type": "code",
   "execution_count": 3,
   "metadata": {},
   "outputs": [
    {
     "name": "stdout",
     "output_type": "stream",
     "text": [
      "{\n",
      "  \"title\": \"CEO\",\n",
      "  \"department\": \"Engineering\",\n",
      "  \"salary\": 60000\n",
      "}\n"
     ]
    }
   ],
   "source": [
    "result = jpath.query(\"\"\"child::employers/child::role[child::title = \"CEO\"]]\"\"\")\n",
    "print(result)"
   ]
  }
 ],
 "metadata": {
  "kernelspec": {
   "display_name": "Python 3 (ipykernel)",
   "language": "python",
   "name": "python3"
  },
  "language_info": {
   "codemirror_mode": {
    "name": "ipython",
    "version": 3
   },
   "file_extension": ".py",
   "mimetype": "text/x-python",
   "name": "python",
   "nbconvert_exporter": "python",
   "pygments_lexer": "ipython3",
   "version": "3.10.11"
  }
 },
 "nbformat": 4,
 "nbformat_minor": 4
}
