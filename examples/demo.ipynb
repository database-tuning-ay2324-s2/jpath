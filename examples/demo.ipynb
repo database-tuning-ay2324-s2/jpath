{
 "cells": [
  {
   "cell_type": "code",
   "execution_count": 3,
   "metadata": {},
   "outputs": [],
   "source": [
    "import sys\n",
    "sys.path.append(\"../\") # add parent directory to path so that this notebook can find the jpath module\n",
    "from jpath.jpath import JPath\n",
    "\n",
    "JSON_STRING = \"\"\"\n",
    "{\n",
    "\t\"employees\": [\n",
    "\t\t{\"id\": 1, \"name\": \"John Doe\", \"department\": \"Engineering\", \"salary\": 60000, \"good\": true},\n",
    "\t\t{\"id\": 2, \"name\": \"Jane Smith\", \"department\": \"Marketing\", \"salary\": 55000},\n",
    "\t\t{\"id\": 3, \"name\": \"Alice Johnson\", \"department\": \"Sales\", \"salary\": 58000},\n",
    "\t\t{\"id\": 4, \"name\": \"Robert Brown\", \"department\": \"Human Resources\", \"salary\": 62000},\n",
    "\t\t{\"id\": 5, \"name\": \"Michael Lee\", \"department\": \"Finance\", \"salary\": 63000, \"good\": true},\n",
    "\t\t{\"id\": 6, \"name\": \"Emily Wilson\", \"department\": \"Operations\", \"salary\": 59000},\n",
    "\t\t{\"id\": 7, \"name\": \"David Garcia\", \"department\": \"Customer Service\", \"salary\": 56000},\n",
    "\t\t{\"id\": 8, \"name\": \"Sarah Martinez\", \"department\": \"Product Management\", \"salary\": 65000, \"good\": true}\n",
    "\t],\n",
    "    \"employers\": [\n",
    "\t\t{\"id\": 9, \"name\": \"ggman\", \"role\": {\"title\": \"CEO\", \"department\": \"Engineering\", \"salary\": 60000}},\n",
    "\t\t{\"id\": 10, \"name\": \"jon\", \"role\": {\"title\": \"CTO\", \"department\": \"Engineering\", \"salary\": 80000}},\n",
    "\t\t{\"id\": 11, \"name\": \"sydney\", \"role\": {\"title\": \"COO\", \"department\": \"Operations\", \"salary\": 80000}}\n",
    "\t]\n",
    "}\n",
    "\"\"\"\n",
    "\n",
    "jpath = JPath(JSON_STRING,debug=False)"
   ]
  },
  {
   "cell_type": "markdown",
   "metadata": {},
   "source": [
    "### Simple child query"
   ]
  },
  {
   "cell_type": "code",

   "execution_count": 2,
   "metadata": {},
   "outputs": [
    {
     "name": "stdout",
     "output_type": "stream",
     "text": [
      "[\n",
      "  {\n",
      "    \"id\": 1,\n",
      "    \"name\": \"John Doe\",\n",
      "    \"department\": \"Engineering\",\n",
      "    \"salary\": 60000,\n",
      "    \"good\": true\n",
      "  },\n",
      "  {\n",
      "    \"id\": 2,\n",
      "    \"name\": \"Jane Smith\",\n",
      "    \"department\": \"Marketing\",\n",
      "    \"salary\": 55000\n",
      "  },\n",
      "  {\n",
      "    \"id\": 3,\n",
      "    \"name\": \"Alice Johnson\",\n",
      "    \"department\": \"Sales\",\n",
      "    \"salary\": 58000\n",
      "  },\n",
      "  {\n",
      "    \"id\": 4,\n",
      "    \"name\": \"Robert Brown\",\n",
      "    \"department\": \"Human Resources\",\n",
      "    \"salary\": 62000\n",
      "  },\n",
      "  {\n",
      "    \"id\": 5,\n",
      "    \"name\": \"Michael Lee\",\n",
      "    \"department\": \"Finance\",\n",
      "    \"salary\": 63000,\n",
      "    \"good\": true\n",
      "  },\n",
      "  {\n",
      "    \"id\": 6,\n",
      "    \"name\": \"Emily Wilson\",\n",
      "    \"department\": \"Operations\",\n",
      "    \"salary\": 59000\n",
      "  },\n",
      "  {\n",
      "    \"id\": 7,\n",
      "    \"name\": \"David Garcia\",\n",
      "    \"department\": \"Customer Service\",\n",
      "    \"salary\": 56000\n",
      "  },\n",
      "  {\n",
      "    \"id\": 8,\n",
      "    \"name\": \"Sarah Martinez\",\n",
      "    \"department\": \"Product Management\",\n",
      "    \"salary\": 65000,\n",
      "    \"good\": true\n",
      "  }\n",
      "]\n"
     ]
    }
   ],
   "source": [
    "result = jpath.query(\"/child::employees\")\n",
    "\n",
    "print(result)"
   ]
  },
  {
   "cell_type": "code",
   "execution_count": 3,
   "metadata": {},
   "outputs": [
    {
     "name": "stdout",
     "output_type": "stream",
     "text": [
      "[\n",
      "  {\n",
      "    \"id\": 9,\n",
      "    \"name\": \"ggman\",\n",
      "    \"role\": {\n",
      "      \"title\": \"CEO\",\n",
      "      \"department\": \"Engineering\",\n",
      "      \"salary\": 60000\n",
      "    }\n",
      "  },\n",
      "  {\n",
      "    \"id\": 10,\n",
      "    \"name\": \"jon\",\n",
      "    \"role\": {\n",
      "      \"title\": \"CTO\",\n",
      "      \"department\": \"Engineering\",\n",
      "      \"salary\": 80000\n",
      "    }\n",
      "  },\n",
      "  {\n",
      "    \"id\": 11,\n",
      "    \"name\": \"sydney\",\n",
      "    \"role\": {\n",
      "      \"title\": \"COO\",\n",
      "      \"department\": \"Operations\",\n",
      "      \"salary\": 80000\n",
      "    }\n",
      "  }\n",
      "]\n"
     ]
    }
   ],
   "source": [
    "result = jpath.query(\"/child::employers\")\n",
    "\n",
    "print(result)"
   ]
  },
  {
   "cell_type": "markdown",
   "metadata": {},
   "source": [
    "### Child query with multiple steps"
   ]
  },
  {
   "cell_type": "code",
   "execution_count": 4,
   "metadata": {},
   "outputs": [
    {
     "name": "stdout",
     "output_type": "stream",
     "text": [
      "\"Engineering\"\n",
      "\"Marketing\"\n",
      "\"Sales\"\n",
      "\"Human Resources\"\n",
      "\"Finance\"\n",
      "\"Operations\"\n",
      "\"Customer Service\"\n",
      "\"Product Management\"\n"
     ]
    }
   ],
   "source": [
    "result = jpath.query(\"/child::employees/child::department\")\n",
    "\n",
    "print(result)"
   ]
  },
  {
   "cell_type": "markdown",
   "metadata": {},
   "source": [
    "### Predicate query"
   ]
  },
  {
   "cell_type": "code",
   "execution_count": 5,
   "metadata": {},
   "outputs": [
    {
     "name": "stdout",
     "output_type": "stream",
     "text": [
      "{\n",
      "  \"id\": 2,\n",
      "  \"name\": \"Jane Smith\",\n",
      "  \"department\": \"Marketing\",\n",
      "  \"salary\": 55000\n",
      "}\n"
     ]
    }
   ],
   "source": [
    "result = jpath.query(\"\"\"/child::employees[child::salary = 55000]\"\"\")\n",
    "\n",
    "print(result)\n"
   ]
  },
  {
   "cell_type": "code",
   "execution_count": 6,
   "metadata": {},
   "outputs": [
    {
     "name": "stdout",
     "output_type": "stream",
     "text": [
      "{\n",
      "  \"id\": 1,\n",
      "  \"name\": \"John Doe\",\n",
      "  \"department\": \"Engineering\",\n",
      "  \"salary\": 60000,\n",
      "  \"good\": true\n",
      "}\n",
      "{\n",
      "  \"id\": 3,\n",
      "  \"name\": \"Alice Johnson\",\n",
      "  \"department\": \"Sales\",\n",
      "  \"salary\": 58000\n",
      "}\n",
      "{\n",
      "  \"id\": 4,\n",
      "  \"name\": \"Robert Brown\",\n",
      "  \"department\": \"Human Resources\",\n",
      "  \"salary\": 62000\n",
      "}\n",
      "{\n",
      "  \"id\": 5,\n",
      "  \"name\": \"Michael Lee\",\n",
      "  \"department\": \"Finance\",\n",
      "  \"salary\": 63000,\n",
      "  \"good\": true\n",
      "}\n",
      "{\n",
      "  \"id\": 6,\n",
      "  \"name\": \"Emily Wilson\",\n",
      "  \"department\": \"Operations\",\n",
      "  \"salary\": 59000\n",
      "}\n",
      "{\n",
      "  \"id\": 7,\n",
      "  \"name\": \"David Garcia\",\n",
      "  \"department\": \"Customer Service\",\n",
      "  \"salary\": 56000\n",
      "}\n",
      "{\n",
      "  \"id\": 8,\n",
      "  \"name\": \"Sarah Martinez\",\n",
      "  \"department\": \"Product Management\",\n",
      "  \"salary\": 65000,\n",
      "  \"good\": true\n",
      "}\n"
     ]
    }
   ],
   "source": [
    "result = jpath.query(\"\"\"/child::employees[child::salary != 55000]\"\"\")\n",
    "\n",
    "print(result)"
   ]
  },
  {
   "cell_type": "code",
   "execution_count": 7,
   "metadata": {},
   "outputs": [
    {
     "name": "stdout",
     "output_type": "stream",
     "text": [
      "{\n",
      "  \"id\": 1,\n",
      "  \"name\": \"John Doe\",\n",
      "  \"department\": \"Engineering\",\n",
      "  \"salary\": 60000,\n",
      "  \"good\": true\n",
      "}\n",
      "{\n",
      "  \"id\": 3,\n",
      "  \"name\": \"Alice Johnson\",\n",
      "  \"department\": \"Sales\",\n",
      "  \"salary\": 58000\n",
      "}\n",
      "{\n",
      "  \"id\": 4,\n",
      "  \"name\": \"Robert Brown\",\n",
      "  \"department\": \"Human Resources\",\n",
      "  \"salary\": 62000\n",
      "}\n",
      "{\n",
      "  \"id\": 5,\n",
      "  \"name\": \"Michael Lee\",\n",
      "  \"department\": \"Finance\",\n",
      "  \"salary\": 63000,\n",
      "  \"good\": true\n",
      "}\n",
      "{\n",
      "  \"id\": 6,\n",
      "  \"name\": \"Emily Wilson\",\n",
      "  \"department\": \"Operations\",\n",
      "  \"salary\": 59000\n",
      "}\n",
      "{\n",
      "  \"id\": 7,\n",
      "  \"name\": \"David Garcia\",\n",
      "  \"department\": \"Customer Service\",\n",
      "  \"salary\": 56000\n",
      "}\n",
      "{\n",
      "  \"id\": 8,\n",
      "  \"name\": \"Sarah Martinez\",\n",
      "  \"department\": \"Product Management\",\n",
      "  \"salary\": 65000,\n",
      "  \"good\": true\n",
      "}\n"
     ]
    }
   ],
   "source": [
    "result = jpath.query(\"\"\"/child::employees[child::salary > 55000]\"\"\")\n",
    "print(result)"
   ]
  },
  {
   "cell_type": "code",
   "execution_count": 8,
   "metadata": {},
   "outputs": [
    {
     "name": "stdout",
     "output_type": "stream",
     "text": [
      "{\n",
      "  \"id\": 2,\n",
      "  \"name\": \"Jane Smith\",\n",
      "  \"department\": \"Marketing\",\n",
      "  \"salary\": 55000\n",
      "}\n",
      "{\n",
      "  \"id\": 7,\n",
      "  \"name\": \"David Garcia\",\n",
      "  \"department\": \"Customer Service\",\n",
      "  \"salary\": 56000\n",
      "}\n"
     ]
    }
   ],
   "source": [
    "result = jpath.query(\"\"\"/child::employees[child::salary < 58000]\"\"\")\n",
    "print(result)"
   ]
  },
  {
   "cell_type": "code",
   "execution_count": 9,
   "metadata": {},
   "outputs": [
    {
     "name": "stdout",
     "output_type": "stream",
     "text": [
      "{\n",
      "  \"id\": 1,\n",
      "  \"name\": \"John Doe\",\n",
      "  \"department\": \"Engineering\",\n",
      "  \"salary\": 60000,\n",
      "  \"good\": true\n",
      "}\n",
      "{\n",
      "  \"id\": 3,\n",
      "  \"name\": \"Alice Johnson\",\n",
      "  \"department\": \"Sales\",\n",
      "  \"salary\": 58000\n",
      "}\n",
      "{\n",
      "  \"id\": 4,\n",
      "  \"name\": \"Robert Brown\",\n",
      "  \"department\": \"Human Resources\",\n",
      "  \"salary\": 62000\n",
      "}\n",
      "{\n",
      "  \"id\": 5,\n",
      "  \"name\": \"Michael Lee\",\n",
      "  \"department\": \"Finance\",\n",
      "  \"salary\": 63000,\n",
      "  \"good\": true\n",
      "}\n",
      "{\n",
      "  \"id\": 6,\n",
      "  \"name\": \"Emily Wilson\",\n",
      "  \"department\": \"Operations\",\n",
      "  \"salary\": 59000\n",
      "}\n",
      "{\n",
      "  \"id\": 8,\n",
      "  \"name\": \"Sarah Martinez\",\n",
      "  \"department\": \"Product Management\",\n",
      "  \"salary\": 65000,\n",
      "  \"good\": true\n",
      "}\n"
     ]
    }
   ],
   "source": [
    "result = jpath.query(\"\"\"/child::employees[child::salary >= 58000]\"\"\")\n",
    "print(result)"
   ]
  },
  {
   "cell_type": "code",
   "execution_count": 10,
   "metadata": {},
   "outputs": [
    {
     "name": "stdout",
     "output_type": "stream",
     "text": [
      "{\n",
      "  \"id\": 2,\n",
      "  \"name\": \"Jane Smith\",\n",
      "  \"department\": \"Marketing\",\n",
      "  \"salary\": 55000\n",
      "}\n",
      "{\n",
      "  \"id\": 3,\n",
      "  \"name\": \"Alice Johnson\",\n",
      "  \"department\": \"Sales\",\n",
      "  \"salary\": 58000\n",
      "}\n",
      "{\n",
      "  \"id\": 7,\n",
      "  \"name\": \"David Garcia\",\n",
      "  \"department\": \"Customer Service\",\n",
      "  \"salary\": 56000\n",
      "}\n"
     ]
    }
   ],
   "source": [
    "result = jpath.query(\"\"\"/child::employees[child::salary <= 58000]\"\"\")\n",
    "print(result)"
   ]
  },
  {
   "cell_type": "code",
   "execution_count": 11,
   "metadata": {},
   "outputs": [
    {
     "name": "stdout",
     "output_type": "stream",
     "text": [
      "{\n",
      "  \"id\": 1,\n",
      "  \"name\": \"John Doe\",\n",
      "  \"department\": \"Engineering\",\n",
      "  \"salary\": 60000,\n",
      "  \"good\": true\n",
      "}\n",
      "{\n",
      "  \"id\": 2,\n",
      "  \"name\": \"Jane Smith\",\n",
      "  \"department\": \"Marketing\",\n",
      "  \"salary\": 55000\n",
      "}\n",
      "{\n",
      "  \"id\": 3,\n",
      "  \"name\": \"Alice Johnson\",\n",
      "  \"department\": \"Sales\",\n",
      "  \"salary\": 58000\n",
      "}\n",
      "{\n",
      "  \"id\": 4,\n",
      "  \"name\": \"Robert Brown\",\n",
      "  \"department\": \"Human Resources\",\n",
      "  \"salary\": 62000\n",
      "}\n",
      "{\n",
      "  \"id\": 5,\n",
      "  \"name\": \"Michael Lee\",\n",
      "  \"department\": \"Finance\",\n",
      "  \"salary\": 63000,\n",
      "  \"good\": true\n",
      "}\n",
      "{\n",
      "  \"id\": 6,\n",
      "  \"name\": \"Emily Wilson\",\n",
      "  \"department\": \"Operations\",\n",
      "  \"salary\": 59000\n",
      "}\n",
      "{\n",
      "  \"id\": 7,\n",
      "  \"name\": \"David Garcia\",\n",
      "  \"department\": \"Customer Service\",\n",
      "  \"salary\": 56000\n",
      "}\n",
      "{\n",
      "  \"id\": 8,\n",
      "  \"name\": \"Sarah Martinez\",\n",
      "  \"department\": \"Product Management\",\n",
      "  \"salary\": 65000,\n",
      "  \"good\": true\n",
      "}\n"
     ]
    }
   ],
   "source": [
    "result = jpath.query(\"\"\"/child::employees[child::department]\"\"\")\n",
    "\n",
    "print(result)"
   ]
  },
  {
   "cell_type": "code",
   "execution_count": 12,
   "metadata": {},
   "outputs": [
    {
     "name": "stdout",
     "output_type": "stream",
     "text": [
      "{\n",
      "  \"id\": 1,\n",
      "  \"name\": \"John Doe\",\n",
      "  \"department\": \"Engineering\",\n",
      "  \"salary\": 60000,\n",
      "  \"good\": true\n",
      "}\n",
      "{\n",
      "  \"id\": 5,\n",
      "  \"name\": \"Michael Lee\",\n",
      "  \"department\": \"Finance\",\n",
      "  \"salary\": 63000,\n",
      "  \"good\": true\n",
      "}\n",
      "{\n",
      "  \"id\": 8,\n",
      "  \"name\": \"Sarah Martinez\",\n",
      "  \"department\": \"Product Management\",\n",
      "  \"salary\": 65000,\n",
      "  \"good\": true\n",
      "}\n"
     ]
    }
   ],
   "source": [
    "result = jpath.query(\"\"\"/child::employees[child::good]\"\"\")\n",
    "\n",
    "print(result)"
   ]
  },
  {
   "cell_type": "markdown",
   "metadata": {},
   "source": [
    "### Result array selection (single, slice)"
   ]
  },
  {
   "cell_type": "code",
   "execution_count": 13,
   "metadata": {},
   "outputs": [
    {
     "name": "stdout",
     "output_type": "stream",
     "text": [
      "{\n",
      "  \"id\": 1,\n",
      "  \"name\": \"John Doe\",\n",
      "  \"department\": \"Engineering\",\n",
      "  \"salary\": 60000,\n",
      "  \"good\": true\n",
      "}\n"
     ]
    }
   ],
   "source": [
    "result = jpath.query(\"\"\"/child::employees[child::salary >= 55000][0]\"\"\")\n",
    "\n",
    "print(result)"
   ]
  },
  {
   "cell_type": "code",
   "execution_count": 14,
   "metadata": {},
   "outputs": [
    {
     "name": "stdout",
     "output_type": "stream",
     "text": [
      "{\n",
      "  \"id\": 1,\n",
      "  \"name\": \"John Doe\",\n",
      "  \"department\": \"Engineering\",\n",
      "  \"salary\": 60000,\n",
      "  \"good\": true\n",
      "}\n",
      "{\n",
      "  \"id\": 2,\n",
      "  \"name\": \"Jane Smith\",\n",
      "  \"department\": \"Marketing\",\n",
      "  \"salary\": 55000\n",
      "}\n",
      "{\n",
      "  \"id\": 3,\n",
      "  \"name\": \"Alice Johnson\",\n",
      "  \"department\": \"Sales\",\n",
      "  \"salary\": 58000\n",
      "}\n"
     ]
    }
   ],
   "source": [
    "result = jpath.query(\"\"\"/child::employees[child::salary >= 55000][0:3]\"\"\")\n",
    "\n",
    "print(result)"
   ]
  },
  {
   "cell_type": "code",
   "execution_count": 15,
   "metadata": {},
   "outputs": [
    {
     "name": "stdout",
     "output_type": "stream",
     "text": [
      "{\n",
      "  \"id\": 1,\n",
      "  \"name\": \"John Doe\",\n",
      "  \"department\": \"Engineering\",\n",
      "  \"salary\": 60000,\n",
      "  \"good\": true\n",
      "}\n",
      "{\n",
      "  \"id\": 4,\n",
      "  \"name\": \"Robert Brown\",\n",
      "  \"department\": \"Human Resources\",\n",
      "  \"salary\": 62000\n",
      "}\n",
      "{\n",
      "  \"id\": 7,\n",
      "  \"name\": \"David Garcia\",\n",
      "  \"department\": \"Customer Service\",\n",
      "  \"salary\": 56000\n",
      "}\n"
     ]
    }
   ],
   "source": [
    "result = jpath.query(\"\"\"/child::employees[child::salary >= 55000][0:8:3]\"\"\")\n",
    "\n",
    "print(result)"
   ]
  },
  {
   "cell_type": "code",
   "execution_count": 16,
   "metadata": {},
   "outputs": [
    {
     "name": "stdout",
     "output_type": "stream",
     "text": [
      "{\n",
      "  \"id\": 1,\n",
      "  \"name\": \"John Doe\",\n",
      "  \"department\": \"Engineering\",\n",
      "  \"salary\": 60000,\n",
      "  \"good\": true\n",
      "}\n",
      "{\n",
      "  \"id\": 8,\n",
      "  \"name\": \"Sarah Martinez\",\n",
      "  \"department\": \"Product Management\",\n",
      "  \"salary\": 65000,\n",
      "  \"good\": true\n",
      "}\n"
     ]
    }
   ],
   "source": [
    "result = jpath.query(\"\"\"/child::employees[child::good][0:3:2]\"\"\")\n",
    "\n",
    "print(result)"
   ]
  },
  {
   "cell_type": "markdown",
   "metadata": {},
   "source": [
    "### Descendent query"
   ]
  },
  {
   "cell_type": "code",

   "execution_count": 17,
   "metadata": {},
   "outputs": [
    {
     "name": "stdout",
     "output_type": "stream",
     "text": [
      "{\n",
      "  \"title\": \"CEO\",\n",
      "  \"department\": \"Engineering\",\n",
      "  \"salary\": 60000\n",
      "}\n",
      "{\n",
      "  \"title\": \"CTO\",\n",
      "  \"department\": \"Engineering\",\n",
      "  \"salary\": 80000\n",
      "}\n",
      "{\n",
      "  \"title\": \"COO\",\n",
      "  \"department\": \"Operations\",\n",
      "  \"salary\": 80000\n",
      "}\n"
     ]
    }
   ],
   "source": [
    "result = jpath.query(\"\"\"/descendant::role\"\"\")\n",
    "print(result)"
   ]
  },
  {
   "cell_type": "code",
   "execution_count": null,
   "metadata": {},
   "outputs": [],
   "source": []
  }
 ],
 "metadata": {
  "kernelspec": {
   "display_name": "Python 3 (ipykernel)",
   "language": "python",
   "name": "python3"
  },
  "language_info": {
   "codemirror_mode": {
    "name": "ipython",
    "version": 3
   },
   "file_extension": ".py",
   "mimetype": "text/x-python",
   "name": "python",
   "nbconvert_exporter": "python",
   "pygments_lexer": "ipython3",
   "version": "3.12.2"
  }
 },
 "nbformat": 4,
 "nbformat_minor": 4
}
