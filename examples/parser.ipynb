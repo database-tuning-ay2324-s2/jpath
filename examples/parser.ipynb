{
 "cells": [
  {
   "cell_type": "code",
   "execution_count": 1,
   "metadata": {},
   "outputs": [
    {
     "name": "stdout",
     "output_type": "stream",
     "text": [
      "[CHILD::A[[CHILD::C] Operator.EQUALS 3], CHILD::D[[CHILD::C]]]\n"
     ]
    }
   ],
   "source": [
    "import sys\n",
    "sys.path.append(\"../\") # add parent directory to path so that this notebook can find the jpath module  \n",
    "\n",
    "from jpath.core.parser import Parser\n",
    "parser = Parser()\n",
    "query_str = \"/child::A[child::C = 3]/child::D[child::C]\"\n",
    "\n",
    "query = parser.parse(query_str)\n",
    "print(query.steps)"
   ]
  }
 ],
 "metadata": {
  "kernelspec": {
   "display_name": "Python 3",
   "language": "python",
   "name": "python3"
  },
  "language_info": {
   "codemirror_mode": {
    "name": "ipython",
    "version": 3
   },
   "file_extension": ".py",
   "mimetype": "text/x-python",
   "name": "python",
   "nbconvert_exporter": "python",
   "pygments_lexer": "ipython3",
   "version": "3.11.7"
  }
 },
 "nbformat": 4,
 "nbformat_minor": 2
}
